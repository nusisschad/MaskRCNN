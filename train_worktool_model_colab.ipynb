{
 "cells": [
  {
   "cell_type": "markdown",
   "metadata": {
    "colab_type": "text",
    "id": "vpN6KHsR2Dvf"
   },
   "source": [
    "# Mask R-CNN - Trained WorkTool Model\n",
    "\n",
    "Code and visualizations to test, debug, and evaluate the Mask R-CNN model.\n",
    "- Note: Code adapted from project https://github.com/matterport/Mask_RCNN "
   ]
  },
  {
   "cell_type": "code",
   "execution_count": 1,
   "metadata": {
    "colab": {
     "base_uri": "https://localhost:8080/",
     "height": 176
    },
    "colab_type": "code",
    "id": "CkraqvxR2Dvg",
    "outputId": "309391d7-1286-4dfc-ccf3-95465758e5f0"
   },
   "outputs": [
    {
     "name": "stdout",
     "output_type": "stream",
     "text": [
      "Drive already mounted at /content/gdrive; to attempt to forcibly remount, call drive.mount(\"/content/gdrive\", force_remount=True).\n",
      "augmentation\t\t      mask_rcnn_coco.h5\n",
      "datasets\t\t      model.py\n",
      "google_drive.jpg\t      __pycache__\n",
      "inspect_worktool_data.html    readme.txt\n",
      "inspect_worktool_data.ipynb   train_worktool_model_colab.html\n",
      "inspect_worktool_model.html   train_worktool_model_colab.ipynb\n",
      "inspect_worktool_model.ipynb  worktool.py\n",
      "logs\n"
     ]
    }
   ],
   "source": [
    "# Run this block to connect to your google drive\n",
    "# folder structure: VSE/CA1\n",
    "\n",
    "from google.colab import drive\n",
    "drive.mount('/content/gdrive')\n",
    "\n",
    "# Change working directory to be current folder, please keep ''/content/gdrive/My Drive/XXX' in the path and change XXX to be your own folder.\n",
    "# The path is case sensitive.\n",
    "import os\n",
    "os.chdir('/content/gdrive/My Drive/VSE/CA1')\n",
    "!ls"
   ]
  },
  {
   "cell_type": "code",
   "execution_count": 2,
   "metadata": {
    "colab": {
     "base_uri": "https://localhost:8080/",
     "height": 123
    },
    "colab_type": "code",
    "id": "qrQjWZjw2Dvk",
    "outputId": "09607fb0-8890-450e-f123-bfa50b71fe80"
   },
   "outputs": [
    {
     "name": "stdout",
     "output_type": "stream",
     "text": [
      "`%tensorflow_version` only switches the major version: 1.x or 2.x.\n",
      "You set: `1.x #inform google colab to fall back to tensorflow 1.x`. This will be interpreted as: `1.x`.\n",
      "\n",
      "\n",
      "TensorFlow 1.x selected.\n"
     ]
    },
    {
     "name": "stderr",
     "output_type": "stream",
     "text": [
      "Using TensorFlow backend.\n"
     ]
    }
   ],
   "source": [
    "import os\n",
    "import sys\n",
    "import random\n",
    "import math\n",
    "import re\n",
    "import time\n",
    "import numpy as np\n",
    "\n",
    "%tensorflow_version 1.x #inform google colab to fall back to tensorflow 1.x\n",
    "import tensorflow as tf\n",
    "\n",
    "import matplotlib\n",
    "import matplotlib.pyplot as plt\n",
    "import matplotlib.patches as patches\n",
    "\n",
    "# Root directory of the project\n",
    "ROOT_DIR = os.path.abspath(\"./\")\n",
    "\n",
    "# Import Mask RCNN\n",
    "sys.path.append(ROOT_DIR)  # To find local version of the library\n",
    "\n",
    "import model as modellib\n",
    "from model import log\n",
    "\n",
    "# Import visualization functions    \n",
    "from model import display_instances, display_images, draw_boxes #, display_top_masks\n",
    "#from model import  random_colors, draw_rois, draw_box\n",
    "\n",
    "# Import utility functions\n",
    "from model import apply_box_deltas, denorm_boxes, non_max_suppression, denorm_boxes, unmold_mask\n",
    "\n",
    "import worktool\n",
    "\n",
    "from IPython.display import Image\n",
    "\n",
    "\n",
    "%matplotlib inline \n",
    "\n",
    "# Directory to save logs and trained model\n",
    "MODEL_DIR = os.path.join(ROOT_DIR, \"logs\")\n"
   ]
  },
  {
   "cell_type": "markdown",
   "metadata": {
    "colab_type": "text",
    "id": "hYkL88Zn2Dvo"
   },
   "source": [
    "## Configurations"
   ]
  },
  {
   "cell_type": "code",
   "execution_count": 3,
   "metadata": {
    "colab": {
     "base_uri": "https://localhost:8080/",
     "height": 34
    },
    "colab_type": "code",
    "id": "yufPUvs02Dvo",
    "outputId": "40c9e080-1587-4a9a-8901-321329970f8c"
   },
   "outputs": [
    {
     "name": "stdout",
     "output_type": "stream",
     "text": [
      "Number of classes:  3\n"
     ]
    }
   ],
   "source": [
    "config = worktool.WorkToolConfig()\n",
    "WORKTOOL_DIR = os.path.join(ROOT_DIR, \"datasets\")\n",
    "\n",
    "# Make sure you set it to 1 BG + the number of classes you are predicting\n",
    "# See worktool.py\n",
    "print(\"Number of classes: \", config.NUM_CLASSES)\n"
   ]
  },
  {
   "cell_type": "code",
   "execution_count": 4,
   "metadata": {
    "colab": {
     "base_uri": "https://localhost:8080/",
     "height": 905
    },
    "colab_type": "code",
    "id": "SuRSosnk2Dvr",
    "outputId": "50c8f34e-f3d0-4f04-a720-b60bc296bbb0"
   },
   "outputs": [
    {
     "name": "stdout",
     "output_type": "stream",
     "text": [
      "\n",
      "Configurations:\n",
      "BACKBONE                       resnet101\n",
      "BACKBONE_STRIDES               [4, 8, 16, 32, 64]\n",
      "BATCH_SIZE                     1\n",
      "BBOX_STD_DEV                   [0.1 0.1 0.2 0.2]\n",
      "COMPUTE_BACKBONE_SHAPE         None\n",
      "DETECTION_MAX_INSTANCES        100\n",
      "DETECTION_MIN_CONFIDENCE       0.7\n",
      "DETECTION_NMS_THRESHOLD        0.3\n",
      "FPN_CLASSIF_FC_LAYERS_SIZE     1024\n",
      "GPU_COUNT                      1\n",
      "GRADIENT_CLIP_NORM             5.0\n",
      "IMAGES_PER_GPU                 1\n",
      "IMAGE_MAX_DIM                  1024\n",
      "IMAGE_META_SIZE                15\n",
      "IMAGE_MIN_DIM                  640\n",
      "IMAGE_MIN_SCALE                0\n",
      "IMAGE_RESIZE_MODE              square\n",
      "IMAGE_SHAPE                    [1024 1024    3]\n",
      "LEARNING_MOMENTUM              0.9\n",
      "LEARNING_RATE                  0.001\n",
      "LOSS_WEIGHTS                   {'rpn_class_loss': 1.0, 'rpn_bbox_loss': 1.0, 'mrcnn_class_loss': 1.0, 'mrcnn_bbox_loss': 1.0, 'mrcnn_mask_loss': 1.0}\n",
      "MASK_POOL_SIZE                 14\n",
      "MASK_SHAPE                     [28, 28]\n",
      "MAX_GT_INSTANCES               100\n",
      "MEAN_PIXEL                     [123.7 116.8 103.9]\n",
      "MINI_MASK_SHAPE                (640, 640)\n",
      "NAME                           worktool\n",
      "NUM_CLASSES                    3\n",
      "POOL_SIZE                      7\n",
      "POST_NMS_ROIS_INFERENCE        1000\n",
      "POST_NMS_ROIS_TRAINING         2000\n",
      "ROI_POSITIVE_RATIO             0.33\n",
      "RPN_ANCHOR_RATIOS              [0.5, 1, 2]\n",
      "RPN_ANCHOR_SCALES              (32, 64, 128, 256, 512)\n",
      "RPN_ANCHOR_STRIDE              1\n",
      "RPN_BBOX_STD_DEV               [0.1 0.1 0.2 0.2]\n",
      "RPN_NMS_THRESHOLD              0.7\n",
      "RPN_TRAIN_ANCHORS_PER_IMAGE    256\n",
      "STEPS_PER_EPOCH                100\n",
      "TOP_DOWN_PYRAMID_SIZE          256\n",
      "TRAIN_BN                       False\n",
      "TRAIN_ROIS_PER_IMAGE           200\n",
      "USE_MINI_MASK                  True\n",
      "USE_RPN_ROIS                   True\n",
      "VALIDATION_STEPS               80\n",
      "WEIGHT_DECAY                   0.0001\n",
      "\n",
      "\n"
     ]
    }
   ],
   "source": [
    "# Training configurations \n",
    "# Main settings for training\n",
    "\n",
    "config.IMAGES_PER_GPU = 1    \n",
    "config.GPU_COUNT = 1\n",
    "config.MINI_MASK_SHAPE = (640, 640)\n",
    "config.DETECTION_MIN_CONFIDENCE = 0.7\n",
    "config.POST_NMS_ROIS_TRAINING = 2000\n",
    "config.IMAGE_MIN_DIM = 640\n",
    "config.VALIDATION_STEPS = 80\n",
    "\n",
    "config.display()\n"
   ]
  },
  {
   "cell_type": "markdown",
   "metadata": {
    "colab_type": "text",
    "id": "sQ53Bhxd2Dvu"
   },
   "source": [
    "## Notebook Preferences"
   ]
  },
  {
   "cell_type": "code",
   "execution_count": 0,
   "metadata": {
    "colab": {},
    "colab_type": "code",
    "id": "o--fcszy2Dvv"
   },
   "outputs": [],
   "source": [
    "# Device to load the neural network on.\n",
    "# Useful if you're training a model on the same \n",
    "# machine, in which case use CPU and leave the\n",
    "# GPU for training.\n",
    "DEVICE = \"/gpu:0\"  # /cpu:0 or /gpu:0\n",
    "\n",
    "# Inspect the model in training or inference modes\n",
    "# values: 'inference' or 'training'\n",
    "# TODO: code for 'training' test mode not ready yet\n",
    "TEST_MODE = \"training\"\n"
   ]
  },
  {
   "cell_type": "code",
   "execution_count": 0,
   "metadata": {
    "colab": {},
    "colab_type": "code",
    "id": "E5BAdB932Dvy"
   },
   "outputs": [],
   "source": [
    "def get_ax(rows=1, cols=1, size=16):\n",
    "    \"\"\"Return a Matplotlib Axes array to be used in\n",
    "    all visualizations in the notebook. Provide a\n",
    "    central point to control graph sizes.\n",
    "    \n",
    "    Adjust the size attribute to control how big to render images\n",
    "    \"\"\"\n",
    "    _, ax = plt.subplots(rows, cols, figsize=(size*cols, size*rows))\n",
    "    return ax"
   ]
  },
  {
   "cell_type": "markdown",
   "metadata": {
    "colab_type": "text",
    "id": "szwSwf6Q2Dv1"
   },
   "source": [
    "## Load  Dataset"
   ]
  },
  {
   "cell_type": "code",
   "execution_count": 7,
   "metadata": {
    "colab": {
     "base_uri": "https://localhost:8080/",
     "height": 87
    },
    "colab_type": "code",
    "id": "k4CisTJ-2Dv1",
    "outputId": "6afb1b73-c486-4dd7-fe02-b88460d4c96b"
   },
   "outputs": [
    {
     "name": "stdout",
     "output_type": "stream",
     "text": [
      "Training Images: 416\n",
      "Classes: ['BG', 'hammer', 'spanner']\n",
      "Test Images: 26\n",
      "Classes: ['BG', 'hammer', 'spanner']\n"
     ]
    }
   ],
   "source": [
    "# Load training dataset\n",
    "dataset_train = worktool.WorkToolDataset()\n",
    "dataset_train.load_worktool(WORKTOOL_DIR, \"train\")\n",
    "dataset_train.prepare() # Must call before using the dataset\n",
    "\n",
    "# Load validation dataset\n",
    "dataset_val = worktool.WorkToolDataset()\n",
    "dataset_val.load_worktool(WORKTOOL_DIR, \"val\")\n",
    "dataset_val.prepare() # Must call before using the dataset\n",
    "\n",
    "print(\"Training Images: {}\\nClasses: {}\".format(len(dataset_train.image_ids), dataset_train.class_names))\n",
    "print(\"Test Images: {}\\nClasses: {}\".format(len(dataset_val.image_ids), dataset_val.class_names))\n"
   ]
  },
  {
   "cell_type": "markdown",
   "metadata": {
    "colab_type": "text",
    "id": "W3riB1qB2Dv4"
   },
   "source": [
    "## Ceate Model"
   ]
  },
  {
   "cell_type": "code",
   "execution_count": 8,
   "metadata": {
    "colab": {
     "base_uri": "https://localhost:8080/",
     "height": 34
    },
    "colab_type": "code",
    "id": "X3yvc6AzXmW3",
    "outputId": "e1e248ec-756b-4e31-ac74-cc6b23ae1f2d"
   },
   "outputs": [
    {
     "name": "stdout",
     "output_type": "stream",
     "text": [
      "Training model for 100 epochs\n"
     ]
    }
   ],
   "source": [
    "Num_of_Epochs = 100\n",
    "print(\"Training model for \" + str(Num_of_Epochs) + \" epochs\")"
   ]
  },
  {
   "cell_type": "code",
   "execution_count": 9,
   "metadata": {
    "colab": {
     "base_uri": "https://localhost:8080/",
     "height": 1000
    },
    "colab_type": "code",
    "id": "BWUxq07m2Dv5",
    "outputId": "29a68ad8-275a-4943-b5b3-48c370bb629a"
   },
   "outputs": [
    {
     "name": "stdout",
     "output_type": "stream",
     "text": [
      "WARNING:tensorflow:From /tensorflow-1.15.2/python3.6/tensorflow_core/python/ops/resource_variable_ops.py:1630: calling BaseResourceVariable.__init__ (from tensorflow.python.ops.resource_variable_ops) with constraint is deprecated and will be removed in a future version.\n",
      "Instructions for updating:\n",
      "If using Keras pass *_constraint arguments to layers.\n",
      "WARNING:tensorflow:From /usr/local/lib/python3.6/dist-packages/keras/backend/tensorflow_backend.py:4070: The name tf.nn.max_pool is deprecated. Please use tf.nn.max_pool2d instead.\n",
      "\n",
      "WARNING:tensorflow:From /tensorflow-1.15.2/python3.6/tensorflow_core/python/ops/array_ops.py:1475: where (from tensorflow.python.ops.array_ops) is deprecated and will be removed in a future version.\n",
      "Instructions for updating:\n",
      "Use tf.where in 2.0, which has the same broadcast rule as np.where\n",
      "WARNING:tensorflow:From /content/gdrive/My Drive/VSE/CA1/model.py:567: The name tf.random_shuffle is deprecated. Please use tf.random.shuffle instead.\n",
      "\n",
      "WARNING:tensorflow:From /content/gdrive/My Drive/VSE/CA1/model.py:3076: The name tf.log is deprecated. Please use tf.math.log instead.\n",
      "\n",
      "WARNING:tensorflow:From /content/gdrive/My Drive/VSE/CA1/model.py:614: calling crop_and_resize_v1 (from tensorflow.python.ops.image_ops_impl) with box_ind is deprecated and will be removed in a future version.\n",
      "Instructions for updating:\n",
      "box_ind is deprecated, use box_indices instead\n",
      "Training network heads\n",
      "\n",
      "Starting at epoch 0. LR=0.001\n",
      "\n",
      "Checkpoint Path: /content/gdrive/My Drive/VSE/CA1/logs/worktool20200416T1436/mask_rcnn_worktool_new.h5\n",
      "Selecting layers to train\n",
      "fpn_c5p5               (Conv2D)\n",
      "fpn_c4p4               (Conv2D)\n",
      "fpn_c3p3               (Conv2D)\n",
      "fpn_c2p2               (Conv2D)\n",
      "fpn_p5                 (Conv2D)\n",
      "fpn_p2                 (Conv2D)\n",
      "fpn_p3                 (Conv2D)\n",
      "fpn_p4                 (Conv2D)\n",
      "In model:  rpn_model\n",
      "    rpn_conv_shared        (Conv2D)\n",
      "    rpn_class_raw          (Conv2D)\n",
      "    rpn_bbox_pred          (Conv2D)\n",
      "mrcnn_mask_conv1       (TimeDistributed)\n",
      "mrcnn_mask_bn1         (TimeDistributed)\n",
      "mrcnn_mask_conv2       (TimeDistributed)\n",
      "mrcnn_mask_bn2         (TimeDistributed)\n",
      "mrcnn_class_conv1      (TimeDistributed)\n",
      "mrcnn_class_bn1        (TimeDistributed)\n",
      "mrcnn_mask_conv3       (TimeDistributed)\n",
      "mrcnn_mask_bn3         (TimeDistributed)\n",
      "mrcnn_class_conv2      (TimeDistributed)\n",
      "mrcnn_class_bn2        (TimeDistributed)\n",
      "mrcnn_mask_conv4       (TimeDistributed)\n",
      "mrcnn_mask_bn4         (TimeDistributed)\n",
      "mrcnn_bbox_fc          (TimeDistributed)\n",
      "mrcnn_mask_deconv      (TimeDistributed)\n",
      "mrcnn_class_logits     (TimeDistributed)\n",
      "mrcnn_mask             (TimeDistributed)\n"
     ]
    },
    {
     "name": "stderr",
     "output_type": "stream",
     "text": [
      "/tensorflow-1.15.2/python3.6/tensorflow_core/python/framework/indexed_slices.py:424: UserWarning: Converting sparse IndexedSlices to a dense Tensor of unknown shape. This may consume a large amount of memory.\n",
      "  \"Converting sparse IndexedSlices to a dense Tensor of unknown shape. \"\n",
      "/tensorflow-1.15.2/python3.6/tensorflow_core/python/framework/indexed_slices.py:424: UserWarning: Converting sparse IndexedSlices to a dense Tensor of unknown shape. This may consume a large amount of memory.\n",
      "  \"Converting sparse IndexedSlices to a dense Tensor of unknown shape. \"\n",
      "/tensorflow-1.15.2/python3.6/tensorflow_core/python/framework/indexed_slices.py:424: UserWarning: Converting sparse IndexedSlices to a dense Tensor of unknown shape. This may consume a large amount of memory.\n",
      "  \"Converting sparse IndexedSlices to a dense Tensor of unknown shape. \"\n"
     ]
    },
    {
     "name": "stdout",
     "output_type": "stream",
     "text": [
      "WARNING:tensorflow:From /usr/local/lib/python3.6/dist-packages/keras/backend/tensorflow_backend.py:422: The name tf.global_variables is deprecated. Please use tf.compat.v1.global_variables instead.\n",
      "\n",
      "WARNING:tensorflow:From /usr/local/lib/python3.6/dist-packages/keras/backend/tensorflow_backend.py:431: The name tf.is_variable_initialized is deprecated. Please use tf.compat.v1.is_variable_initialized instead.\n",
      "\n",
      "WARNING:tensorflow:From /usr/local/lib/python3.6/dist-packages/keras/backend/tensorflow_backend.py:438: The name tf.variables_initializer is deprecated. Please use tf.compat.v1.variables_initializer instead.\n",
      "\n",
      "WARNING:tensorflow:From /usr/local/lib/python3.6/dist-packages/keras/callbacks/tensorboard_v1.py:200: The name tf.summary.merge_all is deprecated. Please use tf.compat.v1.summary.merge_all instead.\n",
      "\n",
      "WARNING:tensorflow:From /usr/local/lib/python3.6/dist-packages/keras/callbacks/tensorboard_v1.py:203: The name tf.summary.FileWriter is deprecated. Please use tf.compat.v1.summary.FileWriter instead.\n",
      "\n"
     ]
    },
    {
     "name": "stderr",
     "output_type": "stream",
     "text": [
      "/usr/local/lib/python3.6/dist-packages/keras/engine/training_generator.py:49: UserWarning: Using a generator with `use_multiprocessing=True` and multiple workers may duplicate your data. Please consider using the `keras.utils.Sequence class.\n",
      "  UserWarning('Using a generator with `use_multiprocessing=True`'\n"
     ]
    },
    {
     "name": "stdout",
     "output_type": "stream",
     "text": [
      "Epoch 1/100\n",
      "100/100 [==============================] - 66s 664ms/step - loss: 1.0627 - val_loss: 0.6890\n",
      "WARNING:tensorflow:From /usr/local/lib/python3.6/dist-packages/keras/callbacks/tensorboard_v1.py:343: The name tf.Summary is deprecated. Please use tf.compat.v1.Summary instead.\n",
      "\n",
      "Epoch 2/100\n",
      "100/100 [==============================] - 50s 499ms/step - loss: 0.7288 - val_loss: 1.6576\n",
      "Epoch 3/100\n",
      "100/100 [==============================] - 52s 518ms/step - loss: 0.5441 - val_loss: 0.4331\n",
      "Epoch 4/100\n",
      "100/100 [==============================] - 50s 502ms/step - loss: 0.4972 - val_loss: 0.9776\n",
      "Epoch 5/100\n",
      "100/100 [==============================] - 52s 517ms/step - loss: 0.5131 - val_loss: 0.6245\n",
      "Epoch 6/100\n",
      "100/100 [==============================] - 51s 506ms/step - loss: 0.6403 - val_loss: 1.2351\n",
      "Epoch 7/100\n",
      "100/100 [==============================] - 50s 496ms/step - loss: 0.7367 - val_loss: 0.6985\n",
      "Epoch 8/100\n",
      "100/100 [==============================] - 52s 515ms/step - loss: 0.5733 - val_loss: 0.5913\n",
      "Epoch 9/100\n",
      "100/100 [==============================] - 51s 513ms/step - loss: 0.3714 - val_loss: 0.3192\n",
      "Epoch 10/100\n",
      "100/100 [==============================] - 52s 516ms/step - loss: 0.3281 - val_loss: 2.3467\n",
      "Epoch 11/100\n",
      "100/100 [==============================] - 51s 509ms/step - loss: 0.4105 - val_loss: 0.8806\n",
      "Epoch 12/100\n",
      "100/100 [==============================] - 50s 498ms/step - loss: 0.4881 - val_loss: 0.3749\n",
      "Epoch 13/100\n",
      "100/100 [==============================] - 50s 505ms/step - loss: 0.3973 - val_loss: 0.1990\n",
      "Epoch 14/100\n",
      "100/100 [==============================] - 51s 511ms/step - loss: 0.4250 - val_loss: 1.2145\n",
      "Epoch 15/100\n",
      "100/100 [==============================] - 51s 509ms/step - loss: 0.5791 - val_loss: 0.8248\n",
      "Epoch 16/100\n",
      "100/100 [==============================] - 51s 514ms/step - loss: 0.3764 - val_loss: 0.5900\n",
      "Epoch 17/100\n",
      "100/100 [==============================] - 50s 497ms/step - loss: 0.4017 - val_loss: 1.4517\n",
      "Epoch 18/100\n",
      "100/100 [==============================] - 51s 514ms/step - loss: 0.3311 - val_loss: 1.1192\n",
      "Epoch 19/100\n",
      "100/100 [==============================] - 50s 502ms/step - loss: 0.3516 - val_loss: 1.6037\n",
      "Epoch 20/100\n",
      "100/100 [==============================] - 52s 520ms/step - loss: 0.3703 - val_loss: 0.6292\n",
      "Epoch 21/100\n",
      "100/100 [==============================] - 50s 500ms/step - loss: 0.3275 - val_loss: 1.3761\n",
      "Epoch 22/100\n",
      "100/100 [==============================] - 51s 506ms/step - loss: 0.3717 - val_loss: 0.8606\n",
      "Epoch 23/100\n",
      "100/100 [==============================] - 51s 511ms/step - loss: 0.2574 - val_loss: 3.6899\n",
      "Epoch 24/100\n",
      "100/100 [==============================] - 50s 504ms/step - loss: 0.2483 - val_loss: 0.3564\n",
      "Epoch 25/100\n",
      "100/100 [==============================] - 50s 500ms/step - loss: 0.2292 - val_loss: 0.6755\n",
      "Epoch 26/100\n",
      "100/100 [==============================] - 51s 509ms/step - loss: 0.2472 - val_loss: 0.5130\n",
      "Epoch 27/100\n",
      "100/100 [==============================] - 51s 506ms/step - loss: 0.3087 - val_loss: 0.8384\n",
      "Epoch 28/100\n",
      "100/100 [==============================] - 50s 501ms/step - loss: 0.2577 - val_loss: 0.6170\n",
      "Epoch 29/100\n",
      "100/100 [==============================] - 50s 503ms/step - loss: 0.2903 - val_loss: 0.7019\n",
      "Epoch 30/100\n",
      "100/100 [==============================] - 51s 512ms/step - loss: 0.2460 - val_loss: 1.0770\n",
      "Epoch 31/100\n",
      "100/100 [==============================] - 52s 518ms/step - loss: 0.3028 - val_loss: 0.7791\n",
      "Epoch 32/100\n",
      "100/100 [==============================] - 51s 512ms/step - loss: 0.3264 - val_loss: 0.8864\n",
      "Epoch 33/100\n",
      "100/100 [==============================] - 50s 496ms/step - loss: 0.4121 - val_loss: 0.4934\n",
      "Epoch 34/100\n",
      "100/100 [==============================] - 50s 502ms/step - loss: 0.2300 - val_loss: 0.6659\n",
      "Epoch 35/100\n",
      "100/100 [==============================] - 51s 513ms/step - loss: 0.2779 - val_loss: 0.5104\n",
      "Epoch 36/100\n",
      "100/100 [==============================] - 52s 521ms/step - loss: 0.2641 - val_loss: 0.4869\n",
      "Epoch 37/100\n",
      "100/100 [==============================] - 50s 496ms/step - loss: 0.2579 - val_loss: 0.7175\n",
      "Epoch 38/100\n",
      "100/100 [==============================] - 50s 498ms/step - loss: 0.2724 - val_loss: 1.2477\n",
      "Epoch 39/100\n",
      "100/100 [==============================] - 51s 508ms/step - loss: 0.2152 - val_loss: 1.2215\n",
      "Epoch 40/100\n",
      "100/100 [==============================] - 51s 509ms/step - loss: 0.3010 - val_loss: 0.5683\n",
      "Epoch 41/100\n",
      "100/100 [==============================] - 49s 494ms/step - loss: 0.2666 - val_loss: 0.7772\n",
      "Epoch 42/100\n",
      "100/100 [==============================] - 51s 509ms/step - loss: 0.2217 - val_loss: 0.4231\n",
      "Epoch 43/100\n",
      "100/100 [==============================] - 51s 513ms/step - loss: 0.2408 - val_loss: 0.1631\n",
      "Epoch 44/100\n",
      "100/100 [==============================] - 50s 499ms/step - loss: 0.2121 - val_loss: 0.4950\n",
      "Epoch 45/100\n",
      "100/100 [==============================] - 51s 508ms/step - loss: 0.2104 - val_loss: 1.1379\n",
      "Epoch 46/100\n",
      "100/100 [==============================] - 51s 508ms/step - loss: 0.1697 - val_loss: 1.3062\n",
      "Epoch 47/100\n",
      "100/100 [==============================] - 51s 514ms/step - loss: 0.2047 - val_loss: 0.3101\n",
      "Epoch 48/100\n",
      "100/100 [==============================] - 51s 513ms/step - loss: 0.2530 - val_loss: 0.2752\n",
      "Epoch 49/100\n",
      "100/100 [==============================] - 50s 499ms/step - loss: 0.2666 - val_loss: 1.0720\n",
      "Epoch 50/100\n",
      "100/100 [==============================] - 51s 509ms/step - loss: 0.2393 - val_loss: 0.2997\n",
      "Epoch 51/100\n",
      "100/100 [==============================] - 51s 511ms/step - loss: 0.1866 - val_loss: 0.6843\n",
      "Epoch 52/100\n",
      "100/100 [==============================] - 51s 513ms/step - loss: 0.1667 - val_loss: 0.8265\n",
      "Epoch 53/100\n",
      "100/100 [==============================] - 50s 505ms/step - loss: 0.2336 - val_loss: 1.6337\n",
      "Epoch 54/100\n",
      "100/100 [==============================] - 51s 510ms/step - loss: 0.2034 - val_loss: 0.2961\n",
      "Epoch 55/100\n",
      "100/100 [==============================] - 51s 512ms/step - loss: 0.2488 - val_loss: 1.1862\n",
      "Epoch 56/100\n",
      "100/100 [==============================] - 50s 498ms/step - loss: 0.2145 - val_loss: 0.8560\n",
      "Epoch 57/100\n",
      "100/100 [==============================] - 51s 509ms/step - loss: 0.1950 - val_loss: 1.0620\n",
      "Epoch 58/100\n",
      "100/100 [==============================] - 52s 517ms/step - loss: 0.1843 - val_loss: 0.1423\n",
      "Epoch 59/100\n",
      "100/100 [==============================] - 51s 507ms/step - loss: 0.1862 - val_loss: 0.6601\n",
      "Epoch 60/100\n",
      "100/100 [==============================] - 50s 504ms/step - loss: 0.1828 - val_loss: 0.6218\n",
      "Epoch 61/100\n",
      "100/100 [==============================] - 51s 507ms/step - loss: 0.2288 - val_loss: 1.0641\n",
      "Epoch 62/100\n",
      "100/100 [==============================] - 50s 503ms/step - loss: 0.1829 - val_loss: 0.1918\n",
      "Epoch 63/100\n",
      "100/100 [==============================] - 51s 512ms/step - loss: 0.1737 - val_loss: 0.8669\n",
      "Epoch 64/100\n",
      "100/100 [==============================] - 52s 516ms/step - loss: 0.2329 - val_loss: 0.3461\n",
      "Epoch 65/100\n",
      "100/100 [==============================] - 51s 508ms/step - loss: 0.1988 - val_loss: 0.9995\n",
      "Epoch 66/100\n",
      "100/100 [==============================] - 50s 505ms/step - loss: 0.1834 - val_loss: 0.5898\n",
      "Epoch 67/100\n",
      "100/100 [==============================] - 51s 508ms/step - loss: 0.1729 - val_loss: 1.5449\n",
      "Epoch 68/100\n",
      "100/100 [==============================] - 52s 520ms/step - loss: 0.1596 - val_loss: 0.8921\n",
      "Epoch 69/100\n",
      "100/100 [==============================] - 50s 505ms/step - loss: 0.1717 - val_loss: 1.0305\n",
      "Epoch 70/100\n",
      "100/100 [==============================] - 51s 511ms/step - loss: 0.1875 - val_loss: 1.4420\n",
      "Epoch 71/100\n",
      "100/100 [==============================] - 51s 514ms/step - loss: 0.1565 - val_loss: 0.9357\n",
      "Epoch 72/100\n",
      "100/100 [==============================] - 50s 499ms/step - loss: 0.1523 - val_loss: 1.0387\n",
      "Epoch 73/100\n",
      "100/100 [==============================] - 52s 516ms/step - loss: 0.1407 - val_loss: 0.8965\n",
      "Epoch 74/100\n",
      "100/100 [==============================] - 50s 504ms/step - loss: 0.1481 - val_loss: 1.6626\n",
      "Epoch 75/100\n",
      "100/100 [==============================] - 50s 502ms/step - loss: 0.1624 - val_loss: 1.4948\n",
      "Epoch 76/100\n",
      "100/100 [==============================] - 51s 511ms/step - loss: 0.1772 - val_loss: 0.2057\n",
      "Epoch 77/100\n",
      "100/100 [==============================] - 50s 497ms/step - loss: 0.1885 - val_loss: 1.1562\n",
      "Epoch 78/100\n",
      "100/100 [==============================] - 51s 507ms/step - loss: 0.1731 - val_loss: 1.2514\n",
      "Epoch 79/100\n",
      "100/100 [==============================] - 51s 510ms/step - loss: 0.2246 - val_loss: 1.1465\n",
      "Epoch 80/100\n",
      "100/100 [==============================] - 52s 515ms/step - loss: 0.1626 - val_loss: 1.1095\n",
      "Epoch 81/100\n",
      "100/100 [==============================] - 50s 501ms/step - loss: 0.1986 - val_loss: 0.6244\n",
      "Epoch 82/100\n",
      "100/100 [==============================] - 49s 492ms/step - loss: 0.1735 - val_loss: 0.7570\n",
      "Epoch 83/100\n",
      "100/100 [==============================] - 50s 505ms/step - loss: 0.2148 - val_loss: 0.7883\n",
      "Epoch 84/100\n",
      "100/100 [==============================] - 52s 517ms/step - loss: 0.1768 - val_loss: 0.7359\n",
      "Epoch 85/100\n",
      "100/100 [==============================] - 50s 496ms/step - loss: 0.1420 - val_loss: 1.7773\n",
      "Epoch 86/100\n",
      "100/100 [==============================] - 51s 508ms/step - loss: 0.1472 - val_loss: 0.8406\n",
      "Epoch 87/100\n",
      "100/100 [==============================] - 52s 516ms/step - loss: 0.1434 - val_loss: 0.6339\n",
      "Epoch 88/100\n",
      "100/100 [==============================] - 50s 504ms/step - loss: 0.1586 - val_loss: 0.4947\n",
      "Epoch 89/100\n",
      "100/100 [==============================] - 50s 502ms/step - loss: 0.1525 - val_loss: 0.7925\n",
      "Epoch 90/100\n",
      "100/100 [==============================] - 52s 517ms/step - loss: 0.1524 - val_loss: 0.3258\n",
      "Epoch 91/100\n",
      "100/100 [==============================] - 51s 513ms/step - loss: 0.1660 - val_loss: 0.4360\n",
      "Epoch 92/100\n",
      "100/100 [==============================] - 51s 510ms/step - loss: 0.2084 - val_loss: 0.2069\n",
      "Epoch 93/100\n",
      "100/100 [==============================] - 52s 516ms/step - loss: 0.1705 - val_loss: 4.8201\n",
      "Epoch 94/100\n",
      "100/100 [==============================] - 50s 501ms/step - loss: 0.1514 - val_loss: 0.3250\n",
      "Epoch 95/100\n",
      "100/100 [==============================] - 51s 509ms/step - loss: 0.1853 - val_loss: 1.1404\n",
      "Epoch 96/100\n",
      "100/100 [==============================] - 51s 506ms/step - loss: 0.1825 - val_loss: 0.2353\n",
      "Epoch 97/100\n",
      "100/100 [==============================] - 51s 511ms/step - loss: 0.1755 - val_loss: 1.1815\n",
      "Epoch 98/100\n",
      "100/100 [==============================] - 51s 508ms/step - loss: 0.1560 - val_loss: 1.1576\n",
      "Epoch 99/100\n",
      "100/100 [==============================] - 51s 508ms/step - loss: 0.1336 - val_loss: 0.9088\n",
      "Epoch 100/100\n",
      "100/100 [==============================] - 52s 519ms/step - loss: 0.1650 - val_loss: 1.0060\n"
     ]
    }
   ],
   "source": [
    "# Create model in training mode\n",
    "model = modellib.MaskRCNN(mode=\"training\", config=config,\n",
    "                          model_dir=MODEL_DIR)\n",
    "\n",
    "COCO_MODEL_PATH = os.path.join(ROOT_DIR, \"mask_rcnn_coco.h5\")\n",
    "\n",
    "# Load weights trained on MS COCO, but skip layers that\n",
    "# are different due to the different number of classes\n",
    "# See README for instructions to download the COCO weights\n",
    "model.load_weights(COCO_MODEL_PATH, by_name=True,\n",
    "                       exclude=[\"mrcnn_class_logits\", \"mrcnn_bbox_fc\", \n",
    "                                \"mrcnn_bbox\", \"mrcnn_mask\"])\n",
    "\n",
    "# *** This training schedule is an example. Update to your needs ***\n",
    "# no need to train all layers, just the heads should do it.\n",
    "print(\"Training network heads\")\n",
    "model.train(dataset_train, dataset_val,\n",
    "                learning_rate=config.LEARNING_RATE,\n",
    "                epochs=Num_of_Epochs,\n",
    "                layers='heads')"
   ]
  },
  {
   "cell_type": "markdown",
   "metadata": {
    "colab_type": "text",
    "id": "ffdYcaY7XmW8"
   },
   "source": [
    "## Trained Model\n",
    "- ### Model Name: 'mask_rcnn_worktool_new.h5' is located in the logs folder\n",
    "- located this on your Google Drive at: VSE / CA1 / logs\n",
    "- Rename the model to 'mask_rcnn_worktool.h5' and download to your locate project's root folder\n",
    "- Run inference test with this model weights using the notebook 'inspect_worktool_model.ipynb'"
   ]
  },
  {
   "cell_type": "code",
   "execution_count": 0,
   "metadata": {
    "colab": {},
    "colab_type": "code",
    "id": "UU_PWX4zXmW9",
    "outputId": "de8b866f-e8da-41c9-85e2-a7da049b561f"
   },
   "outputs": [
    {
     "data": {
      "image/jpeg": "[encoded data removed]",
      "text/plain": [
       "<IPython.core.display.Image object>"
      ]
     },
     "execution_count": 4,
     "metadata": {
      "tags": []
     },
     "output_type": "execute_result"
    }
   ],
   "source": [
    "\n",
    "Image(ROOT_DIR+'/google_drive.jpg')"
   ]
  },
  {
   "cell_type": "code",
   "execution_count": 0,
   "metadata": {
    "colab": {},
    "colab_type": "code",
    "id": "olMCaRDS2DxI"
   },
   "outputs": [],
   "source": []
  }
 ],
 "metadata": {
  "accelerator": "GPU",
  "colab": {
   "collapsed_sections": [
    "hxgU1xKQ2DwJ",
    "fM8nmayo2DwP",
    "-vqKioNH2Dwb",
    "hcbok5Mk2Dwg",
    "ycEOvLxw2Dwm",
    "p96Tevwd2Dwp",
    "FGTouFiB2Dwt",
    "WYUhwQEj2Dwy",
    "SaPF6jb52Dw2"
   ],
   "machine_shape": "hm",
   "name": "train_worktool_model_colab.ipynb",
   "provenance": []
  },
  "kernelspec": {
   "display_name": "Python 3",
   "language": "python",
   "name": "python3"
  },
  "language_info": {
   "codemirror_mode": {
    "name": "ipython",
    "version": 3
   },
   "file_extension": ".py",
   "mimetype": "text/x-python",
   "name": "python",
   "nbconvert_exporter": "python",
   "pygments_lexer": "ipython3",
   "version": "3.7.4"
  }
 },
 "nbformat": 4,
 "nbformat_minor": 1
}
